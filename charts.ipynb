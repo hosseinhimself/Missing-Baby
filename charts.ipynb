{
 "cells": [
  {
   "cell_type": "code",
   "execution_count": 1,
   "id": "d86e2cd4",
   "metadata": {},
   "outputs": [],
   "source": [
    "import re\n",
    "import ast\n",
    "import emot\n",
    "import nltk\n",
    "import string\n",
    "import pycountry\n",
    "import numpy as np\n",
    "import pandas as pd\n",
    "from collections import Counter\n",
    "import matplotlib.pyplot as plt\n",
    "from nltk.corpus import stopwords\n",
    "from nltk.tokenize import word_tokenize\n",
    "from nltk.sentiment import SentimentIntensityAnalyzer"
   ]
  },
  {
   "cell_type": "code",
   "execution_count": 2,
   "id": "af0cc8e8",
   "metadata": {},
   "outputs": [],
   "source": [
    "d1 = pd.read_csv(\"missingbaby.csv\")\n",
    "d2 = pd.read_csv(\"timefices11.csv\")\n",
    "d3 = pd.read_csv(\"scraped_tweets_missingbaby.csv\")\n",
    "pd.set_option('float_format', '{:.0f}'.format)"
   ]
  },
  {
   "cell_type": "code",
   "execution_count": 3,
   "id": "2a48d0e7",
   "metadata": {},
   "outputs": [],
   "source": [
    "d3['tweetdate'] = d2['date']"
   ]
  },
  {
   "cell_type": "code",
   "execution_count": 4,
   "id": "aaa65f1a",
   "metadata": {},
   "outputs": [],
   "source": [
    "d1 = d1.drop(columns=['Unnamed: 0','IDreplyTo'])"
   ]
  },
  {
   "cell_type": "code",
   "execution_count": 5,
   "id": "7f79d299",
   "metadata": {},
   "outputs": [],
   "source": [
    "d3 = d3.drop(columns=['Unnamed: 0'])"
   ]
  },
  {
   "cell_type": "code",
   "execution_count": 6,
   "id": "afb634ed",
   "metadata": {},
   "outputs": [],
   "source": [
    "data = pd.merge(d1, d3, on=['username', 'description', 'location', 'link','text','hashtags','tweetdate','following','followers','totaltweets','retweetcount'], how='outer')\n"
   ]
  },
  {
   "cell_type": "code",
   "execution_count": 7,
   "id": "f1e49557",
   "metadata": {},
   "outputs": [
    {
     "data": {
      "text/plain": [
       "12849"
      ]
     },
     "execution_count": 7,
     "metadata": {},
     "output_type": "execute_result"
    }
   ],
   "source": [
    "len(data)"
   ]
  },
  {
   "cell_type": "code",
   "execution_count": 8,
   "id": "a9893818",
   "metadata": {},
   "outputs": [
    {
     "data": {
      "text/html": [
       "<div>\n",
       "<style scoped>\n",
       "    .dataframe tbody tr th:only-of-type {\n",
       "        vertical-align: middle;\n",
       "    }\n",
       "\n",
       "    .dataframe tbody tr th {\n",
       "        vertical-align: top;\n",
       "    }\n",
       "\n",
       "    .dataframe thead th {\n",
       "        text-align: right;\n",
       "    }\n",
       "</style>\n",
       "<table border=\"1\" class=\"dataframe\">\n",
       "  <thead>\n",
       "    <tr style=\"text-align: right;\">\n",
       "      <th></th>\n",
       "      <th>username</th>\n",
       "      <th>followers</th>\n",
       "    </tr>\n",
       "  </thead>\n",
       "  <tbody>\n",
       "    <tr>\n",
       "      <th>7066</th>\n",
       "      <td>cnnbrk</td>\n",
       "      <td>64195142</td>\n",
       "    </tr>\n",
       "    <tr>\n",
       "      <th>7116</th>\n",
       "      <td>CNN</td>\n",
       "      <td>61267702</td>\n",
       "    </tr>\n",
       "    <tr>\n",
       "      <th>2868</th>\n",
       "      <td>BBCBreaking</td>\n",
       "      <td>51687011</td>\n",
       "    </tr>\n",
       "    <tr>\n",
       "      <th>1042</th>\n",
       "      <td>BBCWorld</td>\n",
       "      <td>39627731</td>\n",
       "    </tr>\n",
       "    <tr>\n",
       "      <th>2901</th>\n",
       "      <td>BBCNews</td>\n",
       "      <td>15068897</td>\n",
       "    </tr>\n",
       "    <tr>\n",
       "      <th>7114</th>\n",
       "      <td>cnni</td>\n",
       "      <td>14473199</td>\n",
       "    </tr>\n",
       "    <tr>\n",
       "      <th>11026</th>\n",
       "      <td>HuffPost</td>\n",
       "      <td>11204819</td>\n",
       "    </tr>\n",
       "    <tr>\n",
       "      <th>2763</th>\n",
       "      <td>guardian</td>\n",
       "      <td>10898010</td>\n",
       "    </tr>\n",
       "    <tr>\n",
       "      <th>11188</th>\n",
       "      <td>CBSNews</td>\n",
       "      <td>8918937</td>\n",
       "    </tr>\n",
       "    <tr>\n",
       "      <th>2871</th>\n",
       "      <td>SkyNews</td>\n",
       "      <td>8375913</td>\n",
       "    </tr>\n",
       "    <tr>\n",
       "      <th>8138</th>\n",
       "      <td>SkyNewsBreak</td>\n",
       "      <td>4992359</td>\n",
       "    </tr>\n",
       "    <tr>\n",
       "      <th>206</th>\n",
       "      <td>SaharaReporters</td>\n",
       "      <td>4967387</td>\n",
       "    </tr>\n",
       "    <tr>\n",
       "      <th>1444</th>\n",
       "      <td>guardiannews</td>\n",
       "      <td>3864054</td>\n",
       "    </tr>\n",
       "    <tr>\n",
       "      <th>2978</th>\n",
       "      <td>Independent</td>\n",
       "      <td>3629428</td>\n",
       "    </tr>\n",
       "    <tr>\n",
       "      <th>2961</th>\n",
       "      <td>Telegraph</td>\n",
       "      <td>3380840</td>\n",
       "    </tr>\n",
       "    <tr>\n",
       "      <th>2921</th>\n",
       "      <td>MailOnline</td>\n",
       "      <td>2821506</td>\n",
       "    </tr>\n",
       "    <tr>\n",
       "      <th>2164</th>\n",
       "      <td>itvnews</td>\n",
       "      <td>2613166</td>\n",
       "    </tr>\n",
       "    <tr>\n",
       "      <th>7875</th>\n",
       "      <td>Channel4News</td>\n",
       "      <td>2473570</td>\n",
       "    </tr>\n",
       "    <tr>\n",
       "      <th>1455</th>\n",
       "      <td>TheSun</td>\n",
       "      <td>2066638</td>\n",
       "    </tr>\n",
       "    <tr>\n",
       "      <th>11507</th>\n",
       "      <td>VICE</td>\n",
       "      <td>2015297</td>\n",
       "    </tr>\n",
       "  </tbody>\n",
       "</table>\n",
       "</div>"
      ],
      "text/plain": [
       "              username  followers\n",
       "7066            cnnbrk   64195142\n",
       "7116               CNN   61267702\n",
       "2868       BBCBreaking   51687011\n",
       "1042          BBCWorld   39627731\n",
       "2901           BBCNews   15068897\n",
       "7114              cnni   14473199\n",
       "11026         HuffPost   11204819\n",
       "2763          guardian   10898010\n",
       "11188          CBSNews    8918937\n",
       "2871           SkyNews    8375913\n",
       "8138      SkyNewsBreak    4992359\n",
       "206    SaharaReporters    4967387\n",
       "1444      guardiannews    3864054\n",
       "2978       Independent    3629428\n",
       "2961         Telegraph    3380840\n",
       "2921        MailOnline    2821506\n",
       "2164           itvnews    2613166\n",
       "7875      Channel4News    2473570\n",
       "1455            TheSun    2066638\n",
       "11507             VICE    2015297"
      ]
     },
     "execution_count": 8,
     "metadata": {},
     "output_type": "execute_result"
    }
   ],
   "source": [
    "data.sort_values(by='followers', ascending=False)[['username', 'followers']].drop_duplicates(subset='username').head(20)\n"
   ]
  },
  {
   "cell_type": "code",
   "execution_count": 9,
   "id": "094bb768",
   "metadata": {},
   "outputs": [
    {
     "name": "stdout",
     "output_type": "stream",
     "text": [
      "Sort By retweets:\n",
      "https://twitter.com/i/web/status/1631025799716298752\n",
      "https://twitter.com/i/web/status/1631008020128837633\n",
      "https://twitter.com/i/web/status/1631007811827032064\n",
      "https://twitter.com/i/web/status/1630611007184814094\n",
      "https://twitter.com/i/web/status/1630616167139229720\n",
      "https://twitter.com/i/web/status/1631680877234212864\n",
      "https://twitter.com/i/web/status/1631379997796474887\n",
      "https://twitter.com/i/web/status/1630550474612002816\n",
      "https://twitter.com/i/web/status/1630509251578810370\n",
      "https://twitter.com/i/web/status/1631306626228449288\n"
     ]
    },
    {
     "data": {
      "text/html": [
       "<div>\n",
       "<style scoped>\n",
       "    .dataframe tbody tr th:only-of-type {\n",
       "        vertical-align: middle;\n",
       "    }\n",
       "\n",
       "    .dataframe tbody tr th {\n",
       "        vertical-align: top;\n",
       "    }\n",
       "\n",
       "    .dataframe thead th {\n",
       "        text-align: right;\n",
       "    }\n",
       "</style>\n",
       "<table border=\"1\" class=\"dataframe\">\n",
       "  <thead>\n",
       "    <tr style=\"text-align: right;\">\n",
       "      <th></th>\n",
       "      <th>username</th>\n",
       "      <th>text</th>\n",
       "      <th>retweetcount</th>\n",
       "      <th>link</th>\n",
       "    </tr>\n",
       "  </thead>\n",
       "  <tbody>\n",
       "    <tr>\n",
       "      <th>7538</th>\n",
       "      <td>DrProudman</td>\n",
       "      <td>The media assumes that privileged aristocrats ...</td>\n",
       "      <td>329</td>\n",
       "      <td>https://twitter.com/i/web/status/1631025799716...</td>\n",
       "    </tr>\n",
       "    <tr>\n",
       "      <th>8515</th>\n",
       "      <td>BBCBreaking</td>\n",
       "      <td>Baby's body found by UK police searching for m...</td>\n",
       "      <td>241</td>\n",
       "      <td>https://twitter.com/i/web/status/1631008020128...</td>\n",
       "    </tr>\n",
       "    <tr>\n",
       "      <th>8533</th>\n",
       "      <td>SkyNews</td>\n",
       "      <td>BREAKING: Police have found the remains of a b...</td>\n",
       "      <td>178</td>\n",
       "      <td>https://twitter.com/i/web/status/1631007811827...</td>\n",
       "    </tr>\n",
       "    <tr>\n",
       "      <th>10782</th>\n",
       "      <td>BBCBreaking</td>\n",
       "      <td>Constance Marten and Mark Gordon arrested on s...</td>\n",
       "      <td>95</td>\n",
       "      <td>https://twitter.com/i/web/status/1630611007184...</td>\n",
       "    </tr>\n",
       "    <tr>\n",
       "      <th>10622</th>\n",
       "      <td>metpoliceuk</td>\n",
       "      <td>Constance Marten and Mark Gordon further arres...</td>\n",
       "      <td>90</td>\n",
       "      <td>https://twitter.com/i/web/status/1630616167139...</td>\n",
       "    </tr>\n",
       "    <tr>\n",
       "      <th>1044</th>\n",
       "      <td>BBCBreaking</td>\n",
       "      <td>Couple Constance Marten and Mark Gordon appear...</td>\n",
       "      <td>88</td>\n",
       "      <td>https://twitter.com/i/web/status/1631680877234...</td>\n",
       "    </tr>\n",
       "    <tr>\n",
       "      <th>5280</th>\n",
       "      <td>BBCBreaking</td>\n",
       "      <td>Constance Marten and Mark Gordon charged with ...</td>\n",
       "      <td>86</td>\n",
       "      <td>https://twitter.com/i/web/status/1631379997796...</td>\n",
       "    </tr>\n",
       "    <tr>\n",
       "      <th>11530</th>\n",
       "      <td>DonnaDlm71</td>\n",
       "      <td>If you think the arrest of Mark Gordon &amp;amp; C...</td>\n",
       "      <td>83</td>\n",
       "      <td>https://twitter.com/i/web/status/1630550474612...</td>\n",
       "    </tr>\n",
       "    <tr>\n",
       "      <th>11952</th>\n",
       "      <td>OldHighburyN5</td>\n",
       "      <td>Update : Constance Marten &amp;amp; Mark Gordon re...</td>\n",
       "      <td>78</td>\n",
       "      <td>https://twitter.com/i/web/status/1630509251578...</td>\n",
       "    </tr>\n",
       "    <tr>\n",
       "      <th>2905</th>\n",
       "      <td>BBCBreaking</td>\n",
       "      <td>Police questioning Constance Marten and Mark G...</td>\n",
       "      <td>71</td>\n",
       "      <td>https://twitter.com/i/web/status/1631306626228...</td>\n",
       "    </tr>\n",
       "  </tbody>\n",
       "</table>\n",
       "</div>"
      ],
      "text/plain": [
       "            username                                               text  \\\n",
       "7538      DrProudman  The media assumes that privileged aristocrats ...   \n",
       "8515     BBCBreaking  Baby's body found by UK police searching for m...   \n",
       "8533         SkyNews  BREAKING: Police have found the remains of a b...   \n",
       "10782    BBCBreaking  Constance Marten and Mark Gordon arrested on s...   \n",
       "10622    metpoliceuk  Constance Marten and Mark Gordon further arres...   \n",
       "1044     BBCBreaking  Couple Constance Marten and Mark Gordon appear...   \n",
       "5280     BBCBreaking  Constance Marten and Mark Gordon charged with ...   \n",
       "11530     DonnaDlm71  If you think the arrest of Mark Gordon &amp; C...   \n",
       "11952  OldHighburyN5  Update : Constance Marten &amp; Mark Gordon re...   \n",
       "2905     BBCBreaking  Police questioning Constance Marten and Mark G...   \n",
       "\n",
       "       retweetcount                                               link  \n",
       "7538            329  https://twitter.com/i/web/status/1631025799716...  \n",
       "8515            241  https://twitter.com/i/web/status/1631008020128...  \n",
       "8533            178  https://twitter.com/i/web/status/1631007811827...  \n",
       "10782            95  https://twitter.com/i/web/status/1630611007184...  \n",
       "10622            90  https://twitter.com/i/web/status/1630616167139...  \n",
       "1044             88  https://twitter.com/i/web/status/1631680877234...  \n",
       "5280             86  https://twitter.com/i/web/status/1631379997796...  \n",
       "11530            83  https://twitter.com/i/web/status/1630550474612...  \n",
       "11952            78  https://twitter.com/i/web/status/1630509251578...  \n",
       "2905             71  https://twitter.com/i/web/status/1631306626228...  "
      ]
     },
     "execution_count": 9,
     "metadata": {},
     "output_type": "execute_result"
    }
   ],
   "source": [
    "pd.set_option('float_format', '{:.0f}'.format)\n",
    "\n",
    "print('Sort By retweets:')\n",
    "sort_retweets = data.sort_values(by='tweetdate')[['username', 'text','retweetcount','link']].drop_duplicates(subset='text')\n",
    "sort_retweets = sort_retweets.sort_values(by='retweetcount', ascending=False).head(10)\n",
    "\n",
    "for i in (sort_retweets['link']):\n",
    "    print(i)\n",
    "\n",
    "sort_retweets\n"
   ]
  },
  {
   "cell_type": "code",
   "execution_count": 10,
   "id": "7ac52dfc",
   "metadata": {},
   "outputs": [
    {
     "name": "stdout",
     "output_type": "stream",
     "text": [
      "Sort By likes:\n",
      "https://twitter.com/i/web/status/1631343495771299853\n",
      "https://twitter.com/i/web/status/1633764680756854784\n",
      "https://twitter.com/i/web/status/1631887766433718274\n",
      "https://twitter.com/i/web/status/1631276490028380161\n",
      "https://twitter.com/i/web/status/1631380444343050244\n",
      "https://twitter.com/i/web/status/1631333271077363729\n",
      "https://twitter.com/i/web/status/1631527454383783937\n",
      "https://twitter.com/i/web/status/1631732120480542720\n",
      "https://twitter.com/i/web/status/1631739012393173010\n",
      "https://twitter.com/i/web/status/1631319333757657091\n"
     ]
    },
    {
     "data": {
      "text/html": [
       "<div>\n",
       "<style scoped>\n",
       "    .dataframe tbody tr th:only-of-type {\n",
       "        vertical-align: middle;\n",
       "    }\n",
       "\n",
       "    .dataframe tbody tr th {\n",
       "        vertical-align: top;\n",
       "    }\n",
       "\n",
       "    .dataframe thead th {\n",
       "        text-align: right;\n",
       "    }\n",
       "</style>\n",
       "<table border=\"1\" class=\"dataframe\">\n",
       "  <thead>\n",
       "    <tr style=\"text-align: right;\">\n",
       "      <th></th>\n",
       "      <th>text</th>\n",
       "      <th>likes</th>\n",
       "      <th>link</th>\n",
       "    </tr>\n",
       "  </thead>\n",
       "  <tbody>\n",
       "    <tr>\n",
       "      <th>2528</th>\n",
       "      <td>The media assumes that privileged aristocrats ...</td>\n",
       "      <td>3333</td>\n",
       "      <td>https://twitter.com/i/web/status/1631343495771...</td>\n",
       "    </tr>\n",
       "    <tr>\n",
       "      <th>23</th>\n",
       "      <td>Baby's body found by UK police searching for m...</td>\n",
       "      <td>877</td>\n",
       "      <td>https://twitter.com/i/web/status/1633764680756...</td>\n",
       "    </tr>\n",
       "    <tr>\n",
       "      <th>472</th>\n",
       "      <td>Constance Marten and Markl Gordon's baby was a...</td>\n",
       "      <td>687</td>\n",
       "      <td>https://twitter.com/i/web/status/1631887766433...</td>\n",
       "    </tr>\n",
       "    <tr>\n",
       "      <th>3020</th>\n",
       "      <td>Constance Marten and Mark Gordon…\\nFuck you. F...</td>\n",
       "      <td>598</td>\n",
       "      <td>https://twitter.com/i/web/status/1631276490028...</td>\n",
       "    </tr>\n",
       "    <tr>\n",
       "      <th>2267</th>\n",
       "      <td>Constance Marten and Mark Gordon charged with ...</td>\n",
       "      <td>550</td>\n",
       "      <td>https://twitter.com/i/web/status/1631380444343...</td>\n",
       "    </tr>\n",
       "    <tr>\n",
       "      <th>2584</th>\n",
       "      <td>Bring back the death penalty for Constance Mar...</td>\n",
       "      <td>541</td>\n",
       "      <td>https://twitter.com/i/web/status/1631333271077...</td>\n",
       "    </tr>\n",
       "    <tr>\n",
       "      <th>1582</th>\n",
       "      <td>A special place in hell for Mark Gordon and Co...</td>\n",
       "      <td>499</td>\n",
       "      <td>https://twitter.com/i/web/status/1631527454383...</td>\n",
       "    </tr>\n",
       "    <tr>\n",
       "      <th>702</th>\n",
       "      <td>Couple Constance Marten and Mark Gordon appear...</td>\n",
       "      <td>455</td>\n",
       "      <td>https://twitter.com/i/web/status/1631732120480...</td>\n",
       "    </tr>\n",
       "    <tr>\n",
       "      <th>675</th>\n",
       "      <td>Not the most diplomatic tweet ever... but fuck...</td>\n",
       "      <td>412</td>\n",
       "      <td>https://twitter.com/i/web/status/1631739012393...</td>\n",
       "    </tr>\n",
       "    <tr>\n",
       "      <th>2701</th>\n",
       "      <td>BREAKING: Police have found the remains of a b...</td>\n",
       "      <td>365</td>\n",
       "      <td>https://twitter.com/i/web/status/1631319333757...</td>\n",
       "    </tr>\n",
       "  </tbody>\n",
       "</table>\n",
       "</div>"
      ],
      "text/plain": [
       "                                                   text  likes  \\\n",
       "2528  The media assumes that privileged aristocrats ...   3333   \n",
       "23    Baby's body found by UK police searching for m...    877   \n",
       "472   Constance Marten and Markl Gordon's baby was a...    687   \n",
       "3020  Constance Marten and Mark Gordon…\\nFuck you. F...    598   \n",
       "2267  Constance Marten and Mark Gordon charged with ...    550   \n",
       "2584  Bring back the death penalty for Constance Mar...    541   \n",
       "1582  A special place in hell for Mark Gordon and Co...    499   \n",
       "702   Couple Constance Marten and Mark Gordon appear...    455   \n",
       "675   Not the most diplomatic tweet ever... but fuck...    412   \n",
       "2701  BREAKING: Police have found the remains of a b...    365   \n",
       "\n",
       "                                                   link  \n",
       "2528  https://twitter.com/i/web/status/1631343495771...  \n",
       "23    https://twitter.com/i/web/status/1633764680756...  \n",
       "472   https://twitter.com/i/web/status/1631887766433...  \n",
       "3020  https://twitter.com/i/web/status/1631276490028...  \n",
       "2267  https://twitter.com/i/web/status/1631380444343...  \n",
       "2584  https://twitter.com/i/web/status/1631333271077...  \n",
       "1582  https://twitter.com/i/web/status/1631527454383...  \n",
       "702   https://twitter.com/i/web/status/1631732120480...  \n",
       "675   https://twitter.com/i/web/status/1631739012393...  \n",
       "2701  https://twitter.com/i/web/status/1631319333757...  "
      ]
     },
     "execution_count": 10,
     "metadata": {},
     "output_type": "execute_result"
    }
   ],
   "source": [
    "print('Sort By likes:')\n",
    "sort_likes = data.sort_values(by='likes', ascending=False)[['text','likes','link']].drop_duplicates(subset='text').head(10)\n",
    "    \n",
    "for i in (sort_likes['link']):\n",
    "    print(i)\n",
    "\n",
    "sort_likes"
   ]
  },
  {
   "cell_type": "code",
   "execution_count": 11,
   "id": "5ee06007",
   "metadata": {},
   "outputs": [],
   "source": [
    "dates = []\n",
    "for i in d2['date']:\n",
    "    try:\n",
    "        if '2023' in i:\n",
    "            dates.append(i)\n",
    "        else:\n",
    "            dates.append(np.nan)\n",
    "    except:\n",
    "        dates.append(np.nan)"
   ]
  },
  {
   "cell_type": "code",
   "execution_count": 12,
   "id": "2770695e",
   "metadata": {},
   "outputs": [],
   "source": [
    "d2['tweetdate'] = dates"
   ]
  },
  {
   "cell_type": "code",
   "execution_count": 13,
   "id": "e4c379c1",
   "metadata": {},
   "outputs": [
    {
     "name": "stdout",
     "output_type": "stream",
     "text": [
      "sort by time:\n",
      "https://twitter.com/i/web/status/1629944114379919360\n",
      "https://twitter.com/i/web/status/1630382776175276033\n",
      "https://twitter.com/i/web/status/1630384179434205186\n",
      "https://twitter.com/i/web/status/1630384756016705537\n",
      "https://twitter.com/i/web/status/1630385437431984128\n",
      "https://twitter.com/i/web/status/1630386025187999750\n",
      "https://twitter.com/i/web/status/1630387035713204224\n",
      "https://twitter.com/i/web/status/1630387448755699713\n",
      "https://twitter.com/i/web/status/1630389630615822338\n",
      "https://twitter.com/i/web/status/1630390340313071618\n"
     ]
    },
    {
     "data": {
      "text/html": [
       "<div>\n",
       "<style scoped>\n",
       "    .dataframe tbody tr th:only-of-type {\n",
       "        vertical-align: middle;\n",
       "    }\n",
       "\n",
       "    .dataframe tbody tr th {\n",
       "        vertical-align: top;\n",
       "    }\n",
       "\n",
       "    .dataframe thead th {\n",
       "        text-align: right;\n",
       "    }\n",
       "</style>\n",
       "<table border=\"1\" class=\"dataframe\">\n",
       "  <thead>\n",
       "    <tr style=\"text-align: right;\">\n",
       "      <th></th>\n",
       "      <th>link</th>\n",
       "      <th>text</th>\n",
       "      <th>tweetdate</th>\n",
       "    </tr>\n",
       "  </thead>\n",
       "  <tbody>\n",
       "    <tr>\n",
       "      <th>9800</th>\n",
       "      <td>https://twitter.com/i/web/status/1629944114379...</td>\n",
       "      <td>https://t.co/T1lQ24hHwC\\nUK cult expert says N...</td>\n",
       "      <td>2023-02-26 20:38:54+00:00</td>\n",
       "    </tr>\n",
       "    <tr>\n",
       "      <th>9799</th>\n",
       "      <td>https://twitter.com/i/web/status/1630382776175...</td>\n",
       "      <td>#UPDATE | Constance Marten and Mark Gordon wer...</td>\n",
       "      <td>2023-02-28 01:41:59+00:00</td>\n",
       "    </tr>\n",
       "    <tr>\n",
       "      <th>9794</th>\n",
       "      <td>https://twitter.com/i/web/status/1630384179434...</td>\n",
       "      <td>BREAKING: Constance Marten and Mark Gordon hav...</td>\n",
       "      <td>2023-02-28 01:47:34+00:00</td>\n",
       "    </tr>\n",
       "    <tr>\n",
       "      <th>9792</th>\n",
       "      <td>https://twitter.com/i/web/status/1630384756016...</td>\n",
       "      <td>Appears @sussex_police is assisting @metpolice...</td>\n",
       "      <td>2023-02-28 01:49:51+00:00</td>\n",
       "    </tr>\n",
       "    <tr>\n",
       "      <th>9790</th>\n",
       "      <td>https://twitter.com/i/web/status/1630385437431...</td>\n",
       "      <td>Missing aristocrat Constance Marten and lover ...</td>\n",
       "      <td>2023-02-28 01:52:34+00:00</td>\n",
       "    </tr>\n",
       "    <tr>\n",
       "      <th>9789</th>\n",
       "      <td>https://twitter.com/i/web/status/1630386025187...</td>\n",
       "      <td>Sussex Police say missing aristocrat Constance...</td>\n",
       "      <td>2023-02-28 01:54:54+00:00</td>\n",
       "    </tr>\n",
       "    <tr>\n",
       "      <th>9786</th>\n",
       "      <td>https://twitter.com/i/web/status/1630387035713...</td>\n",
       "      <td>Police say missing aristocrat Constance Marten...</td>\n",
       "      <td>2023-02-28 01:58:55+00:00</td>\n",
       "    </tr>\n",
       "    <tr>\n",
       "      <th>9781</th>\n",
       "      <td>https://twitter.com/i/web/status/1630387448755...</td>\n",
       "      <td>Missing aristocrat Constance Marten and lover ...</td>\n",
       "      <td>2023-02-28 02:00:33+00:00</td>\n",
       "    </tr>\n",
       "    <tr>\n",
       "      <th>9779</th>\n",
       "      <td>https://twitter.com/i/web/status/1630389630615...</td>\n",
       "      <td>Missing couple Constance Marten and Mark Gordo...</td>\n",
       "      <td>2023-02-28 02:09:13+00:00</td>\n",
       "    </tr>\n",
       "    <tr>\n",
       "      <th>9776</th>\n",
       "      <td>https://twitter.com/i/web/status/1630390340313...</td>\n",
       "      <td>Constance Marten and partner Mark Gordon found...</td>\n",
       "      <td>2023-02-28 02:12:02+00:00</td>\n",
       "    </tr>\n",
       "  </tbody>\n",
       "</table>\n",
       "</div>"
      ],
      "text/plain": [
       "                                                   link  \\\n",
       "9800  https://twitter.com/i/web/status/1629944114379...   \n",
       "9799  https://twitter.com/i/web/status/1630382776175...   \n",
       "9794  https://twitter.com/i/web/status/1630384179434...   \n",
       "9792  https://twitter.com/i/web/status/1630384756016...   \n",
       "9790  https://twitter.com/i/web/status/1630385437431...   \n",
       "9789  https://twitter.com/i/web/status/1630386025187...   \n",
       "9786  https://twitter.com/i/web/status/1630387035713...   \n",
       "9781  https://twitter.com/i/web/status/1630387448755...   \n",
       "9779  https://twitter.com/i/web/status/1630389630615...   \n",
       "9776  https://twitter.com/i/web/status/1630390340313...   \n",
       "\n",
       "                                                   text  \\\n",
       "9800  https://t.co/T1lQ24hHwC\\nUK cult expert says N...   \n",
       "9799  #UPDATE | Constance Marten and Mark Gordon wer...   \n",
       "9794  BREAKING: Constance Marten and Mark Gordon hav...   \n",
       "9792  Appears @sussex_police is assisting @metpolice...   \n",
       "9790  Missing aristocrat Constance Marten and lover ...   \n",
       "9789  Sussex Police say missing aristocrat Constance...   \n",
       "9786  Police say missing aristocrat Constance Marten...   \n",
       "9781  Missing aristocrat Constance Marten and lover ...   \n",
       "9779  Missing couple Constance Marten and Mark Gordo...   \n",
       "9776  Constance Marten and partner Mark Gordon found...   \n",
       "\n",
       "                      tweetdate  \n",
       "9800  2023-02-26 20:38:54+00:00  \n",
       "9799  2023-02-28 01:41:59+00:00  \n",
       "9794  2023-02-28 01:47:34+00:00  \n",
       "9792  2023-02-28 01:49:51+00:00  \n",
       "9790  2023-02-28 01:52:34+00:00  \n",
       "9789  2023-02-28 01:54:54+00:00  \n",
       "9786  2023-02-28 01:58:55+00:00  \n",
       "9781  2023-02-28 02:00:33+00:00  \n",
       "9779  2023-02-28 02:09:13+00:00  \n",
       "9776  2023-02-28 02:12:02+00:00  "
      ]
     },
     "execution_count": 13,
     "metadata": {},
     "output_type": "execute_result"
    }
   ],
   "source": [
    "print('sort by time:')\n",
    "sort_times = d2.sort_values(by='tweetdate')[['link','text','tweetdate']].drop_duplicates(subset='text').head(10)\n",
    "    \n",
    "for i in (sort_times['link']):\n",
    "    print(i)\n",
    "    \n",
    "sort_times\n"
   ]
  },
  {
   "cell_type": "code",
   "execution_count": 14,
   "id": "9f6b64ab",
   "metadata": {},
   "outputs": [],
   "source": [
    "\n",
    "d1['datetime'] = pd.to_datetime(d1['tweetdate'])\n"
   ]
  },
  {
   "cell_type": "code",
   "execution_count": 15,
   "id": "9045a80d",
   "metadata": {},
   "outputs": [],
   "source": [
    "d2['datetime'] = pd.to_datetime(d2['date'])\n"
   ]
  },
  {
   "cell_type": "code",
   "execution_count": 16,
   "id": "e5f6fc7f",
   "metadata": {},
   "outputs": [],
   "source": [
    "a = d1[['datetime','text','link']]"
   ]
  },
  {
   "cell_type": "code",
   "execution_count": 17,
   "id": "edb53ae0",
   "metadata": {},
   "outputs": [],
   "source": [
    "b = d2[['datetime','text','link']]"
   ]
  },
  {
   "cell_type": "code",
   "execution_count": 18,
   "id": "dd35a5d8",
   "metadata": {},
   "outputs": [],
   "source": [
    "# group by date ignoring hour, minute, and second\n",
    "dfa_grouped = data.groupby(pd.to_datetime(a['datetime']).dt.date).size()\n"
   ]
  },
  {
   "cell_type": "code",
   "execution_count": 19,
   "id": "d475aecd",
   "metadata": {},
   "outputs": [],
   "source": [
    "# group by date ignoring hour, minute, and second\n",
    "dfb_grouped = data.groupby(pd.to_datetime(b['datetime']).dt.date).size()\n"
   ]
  },
  {
   "cell_type": "code",
   "execution_count": 20,
   "id": "0a6f37c9",
   "metadata": {},
   "outputs": [
    {
     "data": {
      "text/plain": [
       "datetime\n",
       "2023-02-26      1\n",
       "2023-02-28   2892\n",
       "2023-03-01   3011\n",
       "2023-03-02   3369\n",
       "2023-03-03   2372\n",
       "2023-03-04    415\n",
       "2023-03-05    303\n",
       "2023-03-06    100\n",
       "2023-03-07     29\n",
       "2023-03-08     19\n",
       "2023-03-09     36\n",
       "2023-03-10      3\n",
       "2023-03-11      3\n",
       "dtype: float64"
      ]
     },
     "execution_count": 20,
     "metadata": {},
     "output_type": "execute_result"
    }
   ],
   "source": [
    "summed_series = dfa_grouped.add(dfb_grouped, fill_value=0)\n",
    "summed_series"
   ]
  },
  {
   "cell_type": "code",
   "execution_count": 22,
   "id": "57f26589",
   "metadata": {},
   "outputs": [
    {
     "data": {
      "image/png": "[encoded data removed]",
      "text/plain": [
       "<Figure size 640x480 with 1 Axes>"
      ]
     },
     "metadata": {},
     "output_type": "display_data"
    }
   ],
   "source": [
    "import matplotlib.ticker as mtick\n",
    "# create bar chart with percent labels\n",
    "fig, ax = plt.subplots()\n",
    "ax = summed_series.plot(kind='bar', ax=ax)\n",
    "\n",
    "# set y-axis label formatter to percent\n",
    "fmt = mtick.PercentFormatter(xmax=summed_series.sum())\n",
    "ax.yaxis.set_major_formatter(fmt)\n",
    "\n",
    "# add labels to bars\n",
    "for i, v in enumerate(summed_series):\n",
    "    ax.text(i, v+1, f\"{v/summed_series.sum()*100:.1f}%\", ha='center')\n",
    "\n",
    "# show plot\n",
    "plt.show()"
   ]
  },
  {
   "cell_type": "code",
   "execution_count": 69,
   "id": "c890d35e",
   "metadata": {},
   "outputs": [],
   "source": [
    "x=[]\n",
    "x_values = pd.date_range(start='2023-02-26', end='2023-03-12', freq='3D')\n",
    "for i in x_values:\n",
    "    x.append(str(i.strftime(\"%Y-%m-%d\")))"
   ]
  },
  {
   "cell_type": "code",
   "execution_count": 70,
   "id": "74b8f449",
   "metadata": {},
   "outputs": [
    {
     "data": {
      "text/plain": [
       "DatetimeIndex(['2023-02-26', '2023-03-01', '2023-03-04', '2023-03-07',\n",
       "               '2023-03-10'],\n",
       "              dtype='datetime64[ns]', freq='3D')"
      ]
     },
     "execution_count": 70,
     "metadata": {},
     "output_type": "execute_result"
    }
   ],
   "source": [
    "x_values"
   ]
  },
  {
   "cell_type": "code",
   "execution_count": 71,
   "id": "a7202c42",
   "metadata": {},
   "outputs": [
    {
     "data": {
      "text/plain": [
       "datetime\n",
       "2023-02-26   2893\n",
       "2023-03-01   8752\n",
       "2023-03-04    818\n",
       "2023-03-07     84\n",
       "2023-03-10      6\n",
       "Freq: 3D, dtype: float64"
      ]
     },
     "execution_count": 71,
     "metadata": {},
     "output_type": "execute_result"
    }
   ],
   "source": [
    "summed_series.index = pd.to_datetime(summed_series.index)\n",
    "\n",
    "y_values = summed_series.resample('3D').sum()\n",
    "y_values"
   ]
  },
  {
   "cell_type": "code",
   "execution_count": 72,
   "id": "38650420",
   "metadata": {},
   "outputs": [
    {
     "data": {
      "text/plain": [
       "datetime\n",
       "2023-02-26   2893\n",
       "2023-03-01   8752\n",
       "2023-03-04    818\n",
       "2023-03-07     84\n",
       "2023-03-10      6\n",
       "Freq: 3D, dtype: float64"
      ]
     },
     "execution_count": 72,
     "metadata": {},
     "output_type": "execute_result"
    }
   ],
   "source": [
    "counts = y_values.to_list()\n",
    "y_values"
   ]
  },
  {
   "cell_type": "code",
   "execution_count": 79,
   "id": "0448ab50",
   "metadata": {},
   "outputs": [
    {
     "data": {
      "image/png": "[encoded data removed]",
      "text/plain": [
       "<Figure size 640x480 with 1 Axes>"
      ]
     },
     "metadata": {},
     "output_type": "display_data"
    }
   ],
   "source": [
    "import math\n",
    "# Calculate percentages\n",
    "total_counts = sum(counts)\n",
    "percentages = [count/total_counts * 100 for count in counts]\n",
    "\n",
    "# Create horizontal bar chart\n",
    "fig, ax = plt.subplots()\n",
    "ax.barh(x, counts)\n",
    "\n",
    "# Add labels and title\n",
    "ax.set_xlabel('Counts')\n",
    "ax.set_ylabel('Time Series')\n",
    "ax.set_title('Horizontal Bar Chart Example')\n",
    "\n",
    "for i, v in enumerate(counts):\n",
    "    ax.text(v, i, str(math.percentages[i]) + '%', color='black', fontweight='bold')\n",
    "\n",
    "# Show plot\n",
    "plt.show()"
   ]
  },
  {
   "cell_type": "code",
   "execution_count": null,
   "id": "5e1f41ea",
   "metadata": {},
   "outputs": [],
   "source": []
  }
 ],
 "metadata": {
  "kernelspec": {
   "display_name": "Python 3 (ipykernel)",
   "language": "python",
   "name": "python3"
  },
  "language_info": {
   "codemirror_mode": {
    "name": "ipython",
    "version": 3
   },
   "file_extension": ".py",
   "mimetype": "text/x-python",
   "name": "python",
   "nbconvert_exporter": "python",
   "pygments_lexer": "ipython3",
   "version": "3.9.13"
  }
 },
 "nbformat": 4,
 "nbformat_minor": 5
}
